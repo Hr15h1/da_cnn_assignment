{
 "cells": [
  {
   "cell_type": "markdown",
   "id": "990ac99e",
   "metadata": {},
   "source": [
    "<h3 style=\"text-align:center\">Image and text classification using CNN</h3>"
   ]
  },
  {
   "cell_type": "code",
   "execution_count": null,
   "id": "3227b955",
   "metadata": {},
   "outputs": [],
   "source": []
  }
 ],
 "metadata": {
  "kernelspec": {
   "display_name": "venv (3.13.7)",
   "language": "python",
   "name": "python3"
  },
  "language_info": {
   "name": "python",
   "version": "3.13.7"
  }
 },
 "nbformat": 4,
 "nbformat_minor": 5
}
